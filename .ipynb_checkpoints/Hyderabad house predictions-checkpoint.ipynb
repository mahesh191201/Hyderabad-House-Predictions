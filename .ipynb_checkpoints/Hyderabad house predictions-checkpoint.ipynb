{
 "cells": [
  {
   "cell_type": "markdown",
   "id": "f58cf482",
   "metadata": {},
   "source": [
    "# Hyderabad House Predictions"
   ]
  },
  {
   "cell_type": "code",
   "execution_count": 1,
   "id": "bb5b9f17",
   "metadata": {},
   "outputs": [],
   "source": [
    "import pandas as pd"
   ]
  },
  {
   "cell_type": "code",
   "execution_count": 2,
   "id": "bc61af8c",
   "metadata": {},
   "outputs": [],
   "source": [
    "housing = pd.read_csv(\"data.csv\")"
   ]
  },
  {
   "cell_type": "code",
   "execution_count": 3,
   "id": "5f5b4612",
   "metadata": {},
   "outputs": [
    {
     "data": {
      "text/html": [
       "<div>\n",
       "<style scoped>\n",
       "    .dataframe tbody tr th:only-of-type {\n",
       "        vertical-align: middle;\n",
       "    }\n",
       "\n",
       "    .dataframe tbody tr th {\n",
       "        vertical-align: top;\n",
       "    }\n",
       "\n",
       "    .dataframe thead th {\n",
       "        text-align: right;\n",
       "    }\n",
       "</style>\n",
       "<table border=\"1\" class=\"dataframe\">\n",
       "  <thead>\n",
       "    <tr style=\"text-align: right;\">\n",
       "      <th></th>\n",
       "      <th>Price</th>\n",
       "      <th>Area</th>\n",
       "      <th>Location</th>\n",
       "      <th>No. of Bedrooms</th>\n",
       "      <th>Resale</th>\n",
       "      <th>MaintenanceStaff</th>\n",
       "      <th>Gymnasium</th>\n",
       "      <th>SwimmingPool</th>\n",
       "      <th>LandscapedGardens</th>\n",
       "      <th>JoggingTrack</th>\n",
       "      <th>...</th>\n",
       "      <th>LiftAvailable</th>\n",
       "      <th>BED</th>\n",
       "      <th>VaastuCompliant</th>\n",
       "      <th>Microwave</th>\n",
       "      <th>GolfCourse</th>\n",
       "      <th>TV</th>\n",
       "      <th>DiningTable</th>\n",
       "      <th>Sofa</th>\n",
       "      <th>Wardrobe</th>\n",
       "      <th>Refrigerator</th>\n",
       "    </tr>\n",
       "  </thead>\n",
       "  <tbody>\n",
       "    <tr>\n",
       "      <th>0</th>\n",
       "      <td>6968000</td>\n",
       "      <td>1340</td>\n",
       "      <td>Nizampet</td>\n",
       "      <td>NaN</td>\n",
       "      <td>0</td>\n",
       "      <td>0</td>\n",
       "      <td>1</td>\n",
       "      <td>1</td>\n",
       "      <td>1</td>\n",
       "      <td>1</td>\n",
       "      <td>...</td>\n",
       "      <td>1</td>\n",
       "      <td>0</td>\n",
       "      <td>1</td>\n",
       "      <td>0</td>\n",
       "      <td>0</td>\n",
       "      <td>0</td>\n",
       "      <td>0</td>\n",
       "      <td>0</td>\n",
       "      <td>0</td>\n",
       "      <td>0</td>\n",
       "    </tr>\n",
       "    <tr>\n",
       "      <th>1</th>\n",
       "      <td>29000000</td>\n",
       "      <td>3498</td>\n",
       "      <td>Hitech City</td>\n",
       "      <td>4.0</td>\n",
       "      <td>0</td>\n",
       "      <td>0</td>\n",
       "      <td>1</td>\n",
       "      <td>1</td>\n",
       "      <td>1</td>\n",
       "      <td>1</td>\n",
       "      <td>...</td>\n",
       "      <td>1</td>\n",
       "      <td>0</td>\n",
       "      <td>1</td>\n",
       "      <td>0</td>\n",
       "      <td>0</td>\n",
       "      <td>0</td>\n",
       "      <td>0</td>\n",
       "      <td>0</td>\n",
       "      <td>0</td>\n",
       "      <td>0</td>\n",
       "    </tr>\n",
       "    <tr>\n",
       "      <th>2</th>\n",
       "      <td>6590000</td>\n",
       "      <td>1318</td>\n",
       "      <td>Manikonda</td>\n",
       "      <td>2.0</td>\n",
       "      <td>0</td>\n",
       "      <td>0</td>\n",
       "      <td>1</td>\n",
       "      <td>0</td>\n",
       "      <td>0</td>\n",
       "      <td>0</td>\n",
       "      <td>...</td>\n",
       "      <td>0</td>\n",
       "      <td>0</td>\n",
       "      <td>0</td>\n",
       "      <td>0</td>\n",
       "      <td>0</td>\n",
       "      <td>0</td>\n",
       "      <td>0</td>\n",
       "      <td>0</td>\n",
       "      <td>0</td>\n",
       "      <td>0</td>\n",
       "    </tr>\n",
       "    <tr>\n",
       "      <th>3</th>\n",
       "      <td>5739000</td>\n",
       "      <td>1295</td>\n",
       "      <td>Alwal</td>\n",
       "      <td>3.0</td>\n",
       "      <td>1</td>\n",
       "      <td>0</td>\n",
       "      <td>0</td>\n",
       "      <td>0</td>\n",
       "      <td>0</td>\n",
       "      <td>0</td>\n",
       "      <td>...</td>\n",
       "      <td>1</td>\n",
       "      <td>0</td>\n",
       "      <td>0</td>\n",
       "      <td>0</td>\n",
       "      <td>0</td>\n",
       "      <td>0</td>\n",
       "      <td>0</td>\n",
       "      <td>0</td>\n",
       "      <td>0</td>\n",
       "      <td>0</td>\n",
       "    </tr>\n",
       "    <tr>\n",
       "      <th>4</th>\n",
       "      <td>5679000</td>\n",
       "      <td>1145</td>\n",
       "      <td>Kukatpally</td>\n",
       "      <td>2.0</td>\n",
       "      <td>0</td>\n",
       "      <td>0</td>\n",
       "      <td>0</td>\n",
       "      <td>0</td>\n",
       "      <td>1</td>\n",
       "      <td>0</td>\n",
       "      <td>...</td>\n",
       "      <td>1</td>\n",
       "      <td>0</td>\n",
       "      <td>0</td>\n",
       "      <td>0</td>\n",
       "      <td>0</td>\n",
       "      <td>0</td>\n",
       "      <td>0</td>\n",
       "      <td>0</td>\n",
       "      <td>0</td>\n",
       "      <td>0</td>\n",
       "    </tr>\n",
       "  </tbody>\n",
       "</table>\n",
       "<p>5 rows × 40 columns</p>\n",
       "</div>"
      ],
      "text/plain": [
       "      Price  Area     Location  No. of Bedrooms  Resale  MaintenanceStaff  \\\n",
       "0   6968000  1340     Nizampet              NaN       0                 0   \n",
       "1  29000000  3498  Hitech City              4.0       0                 0   \n",
       "2   6590000  1318    Manikonda              2.0       0                 0   \n",
       "3   5739000  1295        Alwal              3.0       1                 0   \n",
       "4   5679000  1145   Kukatpally              2.0       0                 0   \n",
       "\n",
       "   Gymnasium  SwimmingPool  LandscapedGardens  JoggingTrack  ...  \\\n",
       "0          1             1                  1             1  ...   \n",
       "1          1             1                  1             1  ...   \n",
       "2          1             0                  0             0  ...   \n",
       "3          0             0                  0             0  ...   \n",
       "4          0             0                  1             0  ...   \n",
       "\n",
       "   LiftAvailable  BED  VaastuCompliant  Microwave  GolfCourse  TV  \\\n",
       "0              1    0                1          0           0   0   \n",
       "1              1    0                1          0           0   0   \n",
       "2              0    0                0          0           0   0   \n",
       "3              1    0                0          0           0   0   \n",
       "4              1    0                0          0           0   0   \n",
       "\n",
       "   DiningTable  Sofa  Wardrobe  Refrigerator  \n",
       "0            0     0         0             0  \n",
       "1            0     0         0             0  \n",
       "2            0     0         0             0  \n",
       "3            0     0         0             0  \n",
       "4            0     0         0             0  \n",
       "\n",
       "[5 rows x 40 columns]"
      ]
     },
     "execution_count": 3,
     "metadata": {},
     "output_type": "execute_result"
    }
   ],
   "source": [
    " housing.head()"
   ]
  },
  {
   "cell_type": "code",
   "execution_count": 4,
   "id": "f73f586e",
   "metadata": {},
   "outputs": [
    {
     "name": "stdout",
     "output_type": "stream",
     "text": [
      "<class 'pandas.core.frame.DataFrame'>\n",
      "RangeIndex: 2518 entries, 0 to 2517\n",
      "Data columns (total 39 columns):\n",
      " #   Column               Non-Null Count  Dtype  \n",
      "---  ------               --------------  -----  \n",
      " 0   Price                2518 non-null   int64  \n",
      " 1   Area                 2518 non-null   int64  \n",
      " 2   No. of Bedrooms      2513 non-null   float64\n",
      " 3   Resale               2518 non-null   int64  \n",
      " 4   MaintenanceStaff     2518 non-null   int64  \n",
      " 5   Gymnasium            2518 non-null   int64  \n",
      " 6   SwimmingPool         2518 non-null   int64  \n",
      " 7   LandscapedGardens    2518 non-null   int64  \n",
      " 8   JoggingTrack         2518 non-null   int64  \n",
      " 9   RainWaterHarvesting  2518 non-null   int64  \n",
      " 10  IndoorGames          2518 non-null   int64  \n",
      " 11  ShoppingMall         2518 non-null   int64  \n",
      " 12  Intercom             2518 non-null   int64  \n",
      " 13  SportsFacility       2518 non-null   int64  \n",
      " 14  ATM                  2518 non-null   int64  \n",
      " 15  ClubHouse            2518 non-null   int64  \n",
      " 16  School               2518 non-null   int64  \n",
      " 17  24X7Security         2518 non-null   int64  \n",
      " 18  PowerBackup          2518 non-null   int64  \n",
      " 19  CarParking           2518 non-null   int64  \n",
      " 20  StaffQuarter         2518 non-null   int64  \n",
      " 21  Cafeteria            2518 non-null   int64  \n",
      " 22  MultipurposeRoom     2518 non-null   int64  \n",
      " 23  Hospital             2518 non-null   int64  \n",
      " 24  WashingMachine       2518 non-null   int64  \n",
      " 25  Gasconnection        2518 non-null   int64  \n",
      " 26  AC                   2518 non-null   int64  \n",
      " 27  Wifi                 2518 non-null   int64  \n",
      " 28  Children'splayarea   2518 non-null   int64  \n",
      " 29  LiftAvailable        2518 non-null   int64  \n",
      " 30  BED                  2518 non-null   int64  \n",
      " 31  VaastuCompliant      2518 non-null   int64  \n",
      " 32  Microwave            2518 non-null   int64  \n",
      " 33  GolfCourse           2518 non-null   int64  \n",
      " 34  TV                   2518 non-null   int64  \n",
      " 35  DiningTable          2518 non-null   int64  \n",
      " 36  Sofa                 2518 non-null   int64  \n",
      " 37  Wardrobe             2518 non-null   int64  \n",
      " 38  Refrigerator         2518 non-null   int64  \n",
      "dtypes: float64(1), int64(38)\n",
      "memory usage: 767.3 KB\n"
     ]
    }
   ],
   "source": [
    "housing=housing.drop('Location', axis=1)\n",
    "housing.info()"
   ]
  },
  {
   "cell_type": "markdown",
   "id": "eac7ba92",
   "metadata": {},
   "source": [
    "#### housing.describe()"
   ]
  },
  {
   "cell_type": "code",
   "execution_count": 5,
   "id": "1ee33cab",
   "metadata": {},
   "outputs": [],
   "source": [
    "# housing['Sofa'].value_counts()\n"
   ]
  },
  {
   "cell_type": "code",
   "execution_count": 6,
   "id": "d02fa80d",
   "metadata": {},
   "outputs": [],
   "source": [
    "# %matplotlib inline"
   ]
  },
  {
   "cell_type": "code",
   "execution_count": 7,
   "id": "af842c21",
   "metadata": {},
   "outputs": [],
   "source": [
    "# import matplotlib.pyplot as plt\n",
    "# housing.hist(bins=50, figsize=(20,15))"
   ]
  },
  {
   "cell_type": "code",
   "execution_count": 8,
   "id": "9fb0e45a",
   "metadata": {},
   "outputs": [],
   "source": [
    "# plt.show()"
   ]
  },
  {
   "cell_type": "markdown",
   "id": "308018b9",
   "metadata": {},
   "source": [
    "# Train-Test Splitting"
   ]
  },
  {
   "cell_type": "code",
   "execution_count": 9,
   "id": "8b52b5a6",
   "metadata": {},
   "outputs": [],
   "source": [
    "import numpy as np\n",
    "\n",
    "\n",
    "def split_train_test(data, test_ratio):\n",
    "    np.random.seed(42)\n",
    "    shuffled=np.random.permutation(len(data))\n",
    "    test_set_size=int(len(data)*test_ratio)\n",
    "    test_indices=shuffled[:test_set_size]\n",
    "    train_indices=shuffled[test_set_size:]\n",
    "    return data.iloc[train_indices], data.iloc[test_indices]\n",
    "    "
   ]
  },
  {
   "cell_type": "code",
   "execution_count": 10,
   "id": "b9ab0fe2",
   "metadata": {},
   "outputs": [],
   "source": [
    "#  train_set, test_set = split_train_test(housing, 0.2)"
   ]
  },
  {
   "cell_type": "code",
   "execution_count": 11,
   "id": "6e9a56d4",
   "metadata": {},
   "outputs": [],
   "source": [
    "# print(f\"Rows in train set: {len(train_set)}\\nRows in test set: {len(test_set)}\\n\")"
   ]
  },
  {
   "cell_type": "code",
   "execution_count": 12,
   "id": "4c8f6c75",
   "metadata": {},
   "outputs": [
    {
     "name": "stdout",
     "output_type": "stream",
     "text": [
      "Rows in train set: 2014\n",
      "Rows in test set: 504\n",
      "\n"
     ]
    }
   ],
   "source": [
    "from sklearn.model_selection import train_test_split\n",
    "train_set, test_set = train_test_split(housing, test_size=0.2, random_state=42)\n",
    "print(f\"Rows in train set: {len(train_set)}\\nRows in test set: {len(test_set)}\\n\")\n"
   ]
  },
  {
   "cell_type": "code",
   "execution_count": 13,
   "id": "b7367539",
   "metadata": {},
   "outputs": [],
   "source": [
    "from sklearn.model_selection import StratifiedShuffleSplit\n",
    "split = StratifiedShuffleSplit(n_splits=1, test_size=0.2, random_state=42)\n",
    "for train_index, test_index in split.split(housing, housing['Sofa']):\n",
    "    strat_train_set=housing.loc[train_index]\n",
    "    strat_test_set=housing.loc[test_index]"
   ]
  },
  {
   "cell_type": "code",
   "execution_count": 14,
   "id": "41d70c83",
   "metadata": {},
   "outputs": [
    {
     "data": {
      "text/plain": [
       "0    1862\n",
       "1      85\n",
       "9      67\n",
       "Name: Sofa, dtype: int64"
      ]
     },
     "execution_count": 14,
     "metadata": {},
     "output_type": "execute_result"
    }
   ],
   "source": [
    "strat_train_set['Sofa'].value_counts()"
   ]
  },
  {
   "cell_type": "code",
   "execution_count": 15,
   "id": "c799156e",
   "metadata": {},
   "outputs": [],
   "source": [
    "# strat_test_set['Sofa'].value_counts()"
   ]
  },
  {
   "cell_type": "code",
   "execution_count": 16,
   "id": "a065ce59",
   "metadata": {},
   "outputs": [
    {
     "data": {
      "text/plain": [
       "0.32695346795434593"
      ]
     },
     "execution_count": 16,
     "metadata": {},
     "output_type": "execute_result"
    }
   ],
   "source": [
    "1862/85/67\n"
   ]
  },
  {
   "cell_type": "code",
   "execution_count": 17,
   "id": "b8cf17e6",
   "metadata": {},
   "outputs": [
    {
     "data": {
      "text/plain": [
       "1.3053221288515406"
      ]
     },
     "execution_count": 17,
     "metadata": {},
     "output_type": "execute_result"
    }
   ],
   "source": [
    "466/21/17\n"
   ]
  },
  {
   "cell_type": "code",
   "execution_count": 18,
   "id": "79c1e369",
   "metadata": {},
   "outputs": [],
   "source": [
    "housing=strat_train_set.copy()"
   ]
  },
  {
   "cell_type": "markdown",
   "id": "510e66ea",
   "metadata": {},
   "source": [
    "# Looking for correlations"
   ]
  },
  {
   "cell_type": "code",
   "execution_count": 19,
   "id": "de644e31",
   "metadata": {},
   "outputs": [
    {
     "data": {
      "text/plain": [
       "Price                  1.000000\n",
       "Area                   0.876548\n",
       "No. of Bedrooms        0.652015\n",
       "Resale                 0.228216\n",
       "SwimmingPool           0.080278\n",
       "Gymnasium              0.072973\n",
       "JoggingTrack           0.066517\n",
       "ClubHouse              0.064404\n",
       "Children'splayarea     0.064325\n",
       "24X7Security           0.062949\n",
       "LandscapedGardens      0.062268\n",
       "IndoorGames            0.060208\n",
       "CarParking             0.058665\n",
       "MultipurposeRoom       0.051368\n",
       "RainWaterHarvesting    0.051135\n",
       "VaastuCompliant        0.048665\n",
       "Intercom               0.045336\n",
       "PowerBackup            0.040013\n",
       "LiftAvailable          0.031290\n",
       "SportsFacility         0.018273\n",
       "StaffQuarter           0.016691\n",
       "MaintenanceStaff       0.008594\n",
       "Cafeteria              0.004425\n",
       "ATM                    0.002491\n",
       "AC                     0.000116\n",
       "TV                    -0.008281\n",
       "DiningTable           -0.009037\n",
       "Refrigerator          -0.009492\n",
       "BED                   -0.010304\n",
       "Sofa                  -0.010726\n",
       "Gasconnection         -0.011228\n",
       "WashingMachine        -0.011630\n",
       "ShoppingMall          -0.012060\n",
       "Wardrobe              -0.012140\n",
       "Wifi                  -0.013221\n",
       "Microwave             -0.017295\n",
       "Hospital              -0.017821\n",
       "School                -0.018962\n",
       "GolfCourse            -0.024658\n",
       "Name: Price, dtype: float64"
      ]
     },
     "execution_count": 19,
     "metadata": {},
     "output_type": "execute_result"
    }
   ],
   "source": [
    "corr_matrix=housing.corr()\n",
    "corr_matrix['Price'].sort_values(ascending=False)"
   ]
  },
  {
   "cell_type": "code",
   "execution_count": 20,
   "id": "e7ef4625",
   "metadata": {},
   "outputs": [],
   "source": [
    "# from pandas.plotting import scatter_matrix\n",
    "# attributes =[\"Area\", \"No. of Bedrooms\", \"Price\", \"GolfCourse\"]\n",
    "# scatter_matrix(housing[attributes], figsize=(12,8))\n",
    "    "
   ]
  },
  {
   "cell_type": "code",
   "execution_count": 21,
   "id": "b2fb96ab",
   "metadata": {},
   "outputs": [],
   "source": [
    "# housing.plot(kind=\"scatter\", x=\"No. of Bedrooms\", y=\"Price\", alpha=1)"
   ]
  },
  {
   "cell_type": "code",
   "execution_count": 22,
   "id": "83a819bb",
   "metadata": {},
   "outputs": [],
   "source": [
    "housing=strat_train_set.drop(\"Price\", axis=1)\n",
    "housing_labels=strat_train_set[\"Price\"].copy()"
   ]
  },
  {
   "cell_type": "markdown",
   "id": "313694f7",
   "metadata": {},
   "source": [
    "# Missing Attributes\n",
    "\n"
   ]
  },
  {
   "cell_type": "code",
   "execution_count": 23,
   "id": "3e7c43b5",
   "metadata": {},
   "outputs": [],
   "source": [
    "# To take care of missing attributes, you have 3 options:\n",
    "#     1.get rid of missing data points\n",
    "#     2. get rid of whole attribute\n",
    "#     3. set the value to some value like 0 mean or median"
   ]
  },
  {
   "cell_type": "code",
   "execution_count": 24,
   "id": "7eb3e47b",
   "metadata": {},
   "outputs": [
    {
     "data": {
      "text/plain": [
       "(2009, 38)"
      ]
     },
     "execution_count": 24,
     "metadata": {},
     "output_type": "execute_result"
    }
   ],
   "source": [
    "a=housing.dropna(subset=[\"No. of Bedrooms\"])\n",
    "a.shape"
   ]
  },
  {
   "cell_type": "code",
   "execution_count": 25,
   "id": "3a04f4d5",
   "metadata": {},
   "outputs": [
    {
     "data": {
      "text/plain": [
       "3.0"
      ]
     },
     "execution_count": 25,
     "metadata": {},
     "output_type": "execute_result"
    }
   ],
   "source": [
    "median=housing[\"No. of Bedrooms\"].median()\n",
    "median"
   ]
  },
  {
   "cell_type": "code",
   "execution_count": 26,
   "id": "6a82ea59",
   "metadata": {},
   "outputs": [
    {
     "data": {
      "text/plain": [
       "2172    3.0\n",
       "1937    2.0\n",
       "1710    3.0\n",
       "1229    3.0\n",
       "2427    3.0\n",
       "       ... \n",
       "860     1.0\n",
       "295     3.0\n",
       "2089    2.0\n",
       "2508    2.0\n",
       "1686    1.0\n",
       "Name: No. of Bedrooms, Length: 2014, dtype: float64"
      ]
     },
     "execution_count": 26,
     "metadata": {},
     "output_type": "execute_result"
    }
   ],
   "source": [
    "housing[\"No. of Bedrooms\"].fillna(median)"
   ]
  },
  {
   "cell_type": "code",
   "execution_count": 27,
   "id": "d68ee579",
   "metadata": {},
   "outputs": [
    {
     "data": {
      "text/plain": [
       "(2014, 38)"
      ]
     },
     "execution_count": 27,
     "metadata": {},
     "output_type": "execute_result"
    }
   ],
   "source": [
    "housing.shape"
   ]
  },
  {
   "cell_type": "code",
   "execution_count": 28,
   "id": "176bae20",
   "metadata": {},
   "outputs": [
    {
     "data": {
      "text/html": [
       "<div>\n",
       "<style scoped>\n",
       "    .dataframe tbody tr th:only-of-type {\n",
       "        vertical-align: middle;\n",
       "    }\n",
       "\n",
       "    .dataframe tbody tr th {\n",
       "        vertical-align: top;\n",
       "    }\n",
       "\n",
       "    .dataframe thead th {\n",
       "        text-align: right;\n",
       "    }\n",
       "</style>\n",
       "<table border=\"1\" class=\"dataframe\">\n",
       "  <thead>\n",
       "    <tr style=\"text-align: right;\">\n",
       "      <th></th>\n",
       "      <th>Area</th>\n",
       "      <th>No. of Bedrooms</th>\n",
       "      <th>Resale</th>\n",
       "      <th>MaintenanceStaff</th>\n",
       "      <th>Gymnasium</th>\n",
       "      <th>SwimmingPool</th>\n",
       "      <th>LandscapedGardens</th>\n",
       "      <th>JoggingTrack</th>\n",
       "      <th>RainWaterHarvesting</th>\n",
       "      <th>IndoorGames</th>\n",
       "      <th>...</th>\n",
       "      <th>LiftAvailable</th>\n",
       "      <th>BED</th>\n",
       "      <th>VaastuCompliant</th>\n",
       "      <th>Microwave</th>\n",
       "      <th>GolfCourse</th>\n",
       "      <th>TV</th>\n",
       "      <th>DiningTable</th>\n",
       "      <th>Sofa</th>\n",
       "      <th>Wardrobe</th>\n",
       "      <th>Refrigerator</th>\n",
       "    </tr>\n",
       "  </thead>\n",
       "  <tbody>\n",
       "    <tr>\n",
       "      <th>2172</th>\n",
       "      <td>1800</td>\n",
       "      <td>3.0</td>\n",
       "      <td>1</td>\n",
       "      <td>0</td>\n",
       "      <td>1</td>\n",
       "      <td>1</td>\n",
       "      <td>1</td>\n",
       "      <td>0</td>\n",
       "      <td>0</td>\n",
       "      <td>0</td>\n",
       "      <td>...</td>\n",
       "      <td>1</td>\n",
       "      <td>0</td>\n",
       "      <td>0</td>\n",
       "      <td>0</td>\n",
       "      <td>0</td>\n",
       "      <td>0</td>\n",
       "      <td>1</td>\n",
       "      <td>0</td>\n",
       "      <td>1</td>\n",
       "      <td>0</td>\n",
       "    </tr>\n",
       "    <tr>\n",
       "      <th>1937</th>\n",
       "      <td>1200</td>\n",
       "      <td>2.0</td>\n",
       "      <td>0</td>\n",
       "      <td>0</td>\n",
       "      <td>0</td>\n",
       "      <td>0</td>\n",
       "      <td>0</td>\n",
       "      <td>0</td>\n",
       "      <td>0</td>\n",
       "      <td>0</td>\n",
       "      <td>...</td>\n",
       "      <td>0</td>\n",
       "      <td>0</td>\n",
       "      <td>0</td>\n",
       "      <td>0</td>\n",
       "      <td>0</td>\n",
       "      <td>0</td>\n",
       "      <td>0</td>\n",
       "      <td>0</td>\n",
       "      <td>0</td>\n",
       "      <td>0</td>\n",
       "    </tr>\n",
       "    <tr>\n",
       "      <th>1710</th>\n",
       "      <td>1740</td>\n",
       "      <td>3.0</td>\n",
       "      <td>0</td>\n",
       "      <td>0</td>\n",
       "      <td>1</td>\n",
       "      <td>1</td>\n",
       "      <td>1</td>\n",
       "      <td>1</td>\n",
       "      <td>1</td>\n",
       "      <td>1</td>\n",
       "      <td>...</td>\n",
       "      <td>1</td>\n",
       "      <td>0</td>\n",
       "      <td>1</td>\n",
       "      <td>0</td>\n",
       "      <td>0</td>\n",
       "      <td>0</td>\n",
       "      <td>0</td>\n",
       "      <td>0</td>\n",
       "      <td>0</td>\n",
       "      <td>0</td>\n",
       "    </tr>\n",
       "    <tr>\n",
       "      <th>1229</th>\n",
       "      <td>1808</td>\n",
       "      <td>3.0</td>\n",
       "      <td>0</td>\n",
       "      <td>0</td>\n",
       "      <td>0</td>\n",
       "      <td>0</td>\n",
       "      <td>0</td>\n",
       "      <td>0</td>\n",
       "      <td>0</td>\n",
       "      <td>0</td>\n",
       "      <td>...</td>\n",
       "      <td>0</td>\n",
       "      <td>0</td>\n",
       "      <td>0</td>\n",
       "      <td>0</td>\n",
       "      <td>0</td>\n",
       "      <td>0</td>\n",
       "      <td>0</td>\n",
       "      <td>0</td>\n",
       "      <td>0</td>\n",
       "      <td>0</td>\n",
       "    </tr>\n",
       "    <tr>\n",
       "      <th>2427</th>\n",
       "      <td>2260</td>\n",
       "      <td>3.0</td>\n",
       "      <td>0</td>\n",
       "      <td>0</td>\n",
       "      <td>1</td>\n",
       "      <td>1</td>\n",
       "      <td>1</td>\n",
       "      <td>1</td>\n",
       "      <td>1</td>\n",
       "      <td>1</td>\n",
       "      <td>...</td>\n",
       "      <td>1</td>\n",
       "      <td>0</td>\n",
       "      <td>1</td>\n",
       "      <td>0</td>\n",
       "      <td>0</td>\n",
       "      <td>0</td>\n",
       "      <td>0</td>\n",
       "      <td>0</td>\n",
       "      <td>0</td>\n",
       "      <td>0</td>\n",
       "    </tr>\n",
       "    <tr>\n",
       "      <th>...</th>\n",
       "      <td>...</td>\n",
       "      <td>...</td>\n",
       "      <td>...</td>\n",
       "      <td>...</td>\n",
       "      <td>...</td>\n",
       "      <td>...</td>\n",
       "      <td>...</td>\n",
       "      <td>...</td>\n",
       "      <td>...</td>\n",
       "      <td>...</td>\n",
       "      <td>...</td>\n",
       "      <td>...</td>\n",
       "      <td>...</td>\n",
       "      <td>...</td>\n",
       "      <td>...</td>\n",
       "      <td>...</td>\n",
       "      <td>...</td>\n",
       "      <td>...</td>\n",
       "      <td>...</td>\n",
       "      <td>...</td>\n",
       "      <td>...</td>\n",
       "    </tr>\n",
       "    <tr>\n",
       "      <th>860</th>\n",
       "      <td>1020</td>\n",
       "      <td>1.0</td>\n",
       "      <td>0</td>\n",
       "      <td>0</td>\n",
       "      <td>1</td>\n",
       "      <td>0</td>\n",
       "      <td>0</td>\n",
       "      <td>0</td>\n",
       "      <td>0</td>\n",
       "      <td>0</td>\n",
       "      <td>...</td>\n",
       "      <td>1</td>\n",
       "      <td>0</td>\n",
       "      <td>0</td>\n",
       "      <td>0</td>\n",
       "      <td>0</td>\n",
       "      <td>0</td>\n",
       "      <td>0</td>\n",
       "      <td>0</td>\n",
       "      <td>0</td>\n",
       "      <td>0</td>\n",
       "    </tr>\n",
       "    <tr>\n",
       "      <th>295</th>\n",
       "      <td>2000</td>\n",
       "      <td>3.0</td>\n",
       "      <td>0</td>\n",
       "      <td>1</td>\n",
       "      <td>1</td>\n",
       "      <td>1</td>\n",
       "      <td>1</td>\n",
       "      <td>1</td>\n",
       "      <td>1</td>\n",
       "      <td>1</td>\n",
       "      <td>...</td>\n",
       "      <td>1</td>\n",
       "      <td>0</td>\n",
       "      <td>1</td>\n",
       "      <td>0</td>\n",
       "      <td>0</td>\n",
       "      <td>0</td>\n",
       "      <td>0</td>\n",
       "      <td>0</td>\n",
       "      <td>0</td>\n",
       "      <td>0</td>\n",
       "    </tr>\n",
       "    <tr>\n",
       "      <th>2089</th>\n",
       "      <td>1200</td>\n",
       "      <td>2.0</td>\n",
       "      <td>0</td>\n",
       "      <td>0</td>\n",
       "      <td>0</td>\n",
       "      <td>0</td>\n",
       "      <td>0</td>\n",
       "      <td>0</td>\n",
       "      <td>0</td>\n",
       "      <td>0</td>\n",
       "      <td>...</td>\n",
       "      <td>0</td>\n",
       "      <td>0</td>\n",
       "      <td>0</td>\n",
       "      <td>0</td>\n",
       "      <td>0</td>\n",
       "      <td>0</td>\n",
       "      <td>0</td>\n",
       "      <td>0</td>\n",
       "      <td>0</td>\n",
       "      <td>0</td>\n",
       "    </tr>\n",
       "    <tr>\n",
       "      <th>2508</th>\n",
       "      <td>1550</td>\n",
       "      <td>2.0</td>\n",
       "      <td>0</td>\n",
       "      <td>9</td>\n",
       "      <td>9</td>\n",
       "      <td>9</td>\n",
       "      <td>9</td>\n",
       "      <td>9</td>\n",
       "      <td>9</td>\n",
       "      <td>9</td>\n",
       "      <td>...</td>\n",
       "      <td>9</td>\n",
       "      <td>9</td>\n",
       "      <td>9</td>\n",
       "      <td>9</td>\n",
       "      <td>9</td>\n",
       "      <td>9</td>\n",
       "      <td>9</td>\n",
       "      <td>9</td>\n",
       "      <td>9</td>\n",
       "      <td>9</td>\n",
       "    </tr>\n",
       "    <tr>\n",
       "      <th>1686</th>\n",
       "      <td>550</td>\n",
       "      <td>1.0</td>\n",
       "      <td>0</td>\n",
       "      <td>0</td>\n",
       "      <td>1</td>\n",
       "      <td>0</td>\n",
       "      <td>0</td>\n",
       "      <td>0</td>\n",
       "      <td>1</td>\n",
       "      <td>1</td>\n",
       "      <td>...</td>\n",
       "      <td>1</td>\n",
       "      <td>0</td>\n",
       "      <td>1</td>\n",
       "      <td>0</td>\n",
       "      <td>0</td>\n",
       "      <td>0</td>\n",
       "      <td>0</td>\n",
       "      <td>0</td>\n",
       "      <td>0</td>\n",
       "      <td>0</td>\n",
       "    </tr>\n",
       "  </tbody>\n",
       "</table>\n",
       "<p>2009 rows × 38 columns</p>\n",
       "</div>"
      ],
      "text/plain": [
       "      Area  No. of Bedrooms  Resale  MaintenanceStaff  Gymnasium  \\\n",
       "2172  1800              3.0       1                 0          1   \n",
       "1937  1200              2.0       0                 0          0   \n",
       "1710  1740              3.0       0                 0          1   \n",
       "1229  1808              3.0       0                 0          0   \n",
       "2427  2260              3.0       0                 0          1   \n",
       "...    ...              ...     ...               ...        ...   \n",
       "860   1020              1.0       0                 0          1   \n",
       "295   2000              3.0       0                 1          1   \n",
       "2089  1200              2.0       0                 0          0   \n",
       "2508  1550              2.0       0                 9          9   \n",
       "1686   550              1.0       0                 0          1   \n",
       "\n",
       "      SwimmingPool  LandscapedGardens  JoggingTrack  RainWaterHarvesting  \\\n",
       "2172             1                  1             0                    0   \n",
       "1937             0                  0             0                    0   \n",
       "1710             1                  1             1                    1   \n",
       "1229             0                  0             0                    0   \n",
       "2427             1                  1             1                    1   \n",
       "...            ...                ...           ...                  ...   \n",
       "860              0                  0             0                    0   \n",
       "295              1                  1             1                    1   \n",
       "2089             0                  0             0                    0   \n",
       "2508             9                  9             9                    9   \n",
       "1686             0                  0             0                    1   \n",
       "\n",
       "      IndoorGames  ...  LiftAvailable  BED  VaastuCompliant  Microwave  \\\n",
       "2172            0  ...              1    0                0          0   \n",
       "1937            0  ...              0    0                0          0   \n",
       "1710            1  ...              1    0                1          0   \n",
       "1229            0  ...              0    0                0          0   \n",
       "2427            1  ...              1    0                1          0   \n",
       "...           ...  ...            ...  ...              ...        ...   \n",
       "860             0  ...              1    0                0          0   \n",
       "295             1  ...              1    0                1          0   \n",
       "2089            0  ...              0    0                0          0   \n",
       "2508            9  ...              9    9                9          9   \n",
       "1686            1  ...              1    0                1          0   \n",
       "\n",
       "      GolfCourse  TV  DiningTable  Sofa  Wardrobe  Refrigerator  \n",
       "2172           0   0            1     0         1             0  \n",
       "1937           0   0            0     0         0             0  \n",
       "1710           0   0            0     0         0             0  \n",
       "1229           0   0            0     0         0             0  \n",
       "2427           0   0            0     0         0             0  \n",
       "...          ...  ..          ...   ...       ...           ...  \n",
       "860            0   0            0     0         0             0  \n",
       "295            0   0            0     0         0             0  \n",
       "2089           0   0            0     0         0             0  \n",
       "2508           9   9            9     9         9             9  \n",
       "1686           0   0            0     0         0             0  \n",
       "\n",
       "[2009 rows x 38 columns]"
      ]
     },
     "execution_count": 28,
     "metadata": {},
     "output_type": "execute_result"
    }
   ],
   "source": [
    "housing.dropna()"
   ]
  },
  {
   "cell_type": "code",
   "execution_count": 29,
   "id": "e06aa7b9",
   "metadata": {},
   "outputs": [
    {
     "data": {
      "text/plain": [
       "(2014, 38)"
      ]
     },
     "execution_count": 29,
     "metadata": {},
     "output_type": "execute_result"
    }
   ],
   "source": [
    "housing.shape\n"
   ]
  },
  {
   "cell_type": "code",
   "execution_count": 30,
   "id": "9c0b8e32",
   "metadata": {},
   "outputs": [
    {
     "data": {
      "text/html": [
       "<div>\n",
       "<style scoped>\n",
       "    .dataframe tbody tr th:only-of-type {\n",
       "        vertical-align: middle;\n",
       "    }\n",
       "\n",
       "    .dataframe tbody tr th {\n",
       "        vertical-align: top;\n",
       "    }\n",
       "\n",
       "    .dataframe thead th {\n",
       "        text-align: right;\n",
       "    }\n",
       "</style>\n",
       "<table border=\"1\" class=\"dataframe\">\n",
       "  <thead>\n",
       "    <tr style=\"text-align: right;\">\n",
       "      <th></th>\n",
       "      <th>Area</th>\n",
       "      <th>No. of Bedrooms</th>\n",
       "      <th>Resale</th>\n",
       "      <th>MaintenanceStaff</th>\n",
       "      <th>Gymnasium</th>\n",
       "      <th>SwimmingPool</th>\n",
       "      <th>LandscapedGardens</th>\n",
       "      <th>JoggingTrack</th>\n",
       "      <th>RainWaterHarvesting</th>\n",
       "      <th>IndoorGames</th>\n",
       "      <th>...</th>\n",
       "      <th>LiftAvailable</th>\n",
       "      <th>BED</th>\n",
       "      <th>VaastuCompliant</th>\n",
       "      <th>Microwave</th>\n",
       "      <th>GolfCourse</th>\n",
       "      <th>TV</th>\n",
       "      <th>DiningTable</th>\n",
       "      <th>Sofa</th>\n",
       "      <th>Wardrobe</th>\n",
       "      <th>Refrigerator</th>\n",
       "    </tr>\n",
       "  </thead>\n",
       "  <tbody>\n",
       "    <tr>\n",
       "      <th>count</th>\n",
       "      <td>2014.000000</td>\n",
       "      <td>2009.000000</td>\n",
       "      <td>2014.000000</td>\n",
       "      <td>2014.000000</td>\n",
       "      <td>2014.000000</td>\n",
       "      <td>2014.000000</td>\n",
       "      <td>2014.00000</td>\n",
       "      <td>2014.000000</td>\n",
       "      <td>2014.000000</td>\n",
       "      <td>2014.000000</td>\n",
       "      <td>...</td>\n",
       "      <td>2014.000000</td>\n",
       "      <td>2014.000000</td>\n",
       "      <td>2014.000000</td>\n",
       "      <td>2014.000000</td>\n",
       "      <td>2014.000000</td>\n",
       "      <td>2014.000000</td>\n",
       "      <td>2014.000000</td>\n",
       "      <td>2014.000000</td>\n",
       "      <td>2014.000000</td>\n",
       "      <td>2014.000000</td>\n",
       "    </tr>\n",
       "    <tr>\n",
       "      <th>mean</th>\n",
       "      <td>1643.760675</td>\n",
       "      <td>2.619711</td>\n",
       "      <td>0.223436</td>\n",
       "      <td>0.413605</td>\n",
       "      <td>0.737339</td>\n",
       "      <td>0.701589</td>\n",
       "      <td>0.61569</td>\n",
       "      <td>0.558093</td>\n",
       "      <td>0.609235</td>\n",
       "      <td>0.580933</td>\n",
       "      <td>...</td>\n",
       "      <td>0.966733</td>\n",
       "      <td>0.357498</td>\n",
       "      <td>0.605760</td>\n",
       "      <td>0.341112</td>\n",
       "      <td>0.330189</td>\n",
       "      <td>0.321251</td>\n",
       "      <td>0.332175</td>\n",
       "      <td>0.341609</td>\n",
       "      <td>0.339126</td>\n",
       "      <td>0.324230</td>\n",
       "    </tr>\n",
       "    <tr>\n",
       "      <th>std</th>\n",
       "      <td>756.381980</td>\n",
       "      <td>0.686908</td>\n",
       "      <td>0.416652</td>\n",
       "      <td>1.624524</td>\n",
       "      <td>1.609407</td>\n",
       "      <td>1.614277</td>\n",
       "      <td>1.62270</td>\n",
       "      <td>1.625783</td>\n",
       "      <td>1.623148</td>\n",
       "      <td>1.624806</td>\n",
       "      <td>...</td>\n",
       "      <td>1.558397</td>\n",
       "      <td>1.620565</td>\n",
       "      <td>1.623378</td>\n",
       "      <td>1.619040</td>\n",
       "      <td>1.617930</td>\n",
       "      <td>1.616966</td>\n",
       "      <td>1.618137</td>\n",
       "      <td>1.619088</td>\n",
       "      <td>1.618843</td>\n",
       "      <td>1.617293</td>\n",
       "    </tr>\n",
       "    <tr>\n",
       "      <th>min</th>\n",
       "      <td>500.000000</td>\n",
       "      <td>1.000000</td>\n",
       "      <td>0.000000</td>\n",
       "      <td>0.000000</td>\n",
       "      <td>0.000000</td>\n",
       "      <td>0.000000</td>\n",
       "      <td>0.00000</td>\n",
       "      <td>0.000000</td>\n",
       "      <td>0.000000</td>\n",
       "      <td>0.000000</td>\n",
       "      <td>...</td>\n",
       "      <td>0.000000</td>\n",
       "      <td>0.000000</td>\n",
       "      <td>0.000000</td>\n",
       "      <td>0.000000</td>\n",
       "      <td>0.000000</td>\n",
       "      <td>0.000000</td>\n",
       "      <td>0.000000</td>\n",
       "      <td>0.000000</td>\n",
       "      <td>0.000000</td>\n",
       "      <td>0.000000</td>\n",
       "    </tr>\n",
       "    <tr>\n",
       "      <th>25%</th>\n",
       "      <td>1160.000000</td>\n",
       "      <td>2.000000</td>\n",
       "      <td>0.000000</td>\n",
       "      <td>0.000000</td>\n",
       "      <td>0.000000</td>\n",
       "      <td>0.000000</td>\n",
       "      <td>0.00000</td>\n",
       "      <td>0.000000</td>\n",
       "      <td>0.000000</td>\n",
       "      <td>0.000000</td>\n",
       "      <td>...</td>\n",
       "      <td>0.000000</td>\n",
       "      <td>0.000000</td>\n",
       "      <td>0.000000</td>\n",
       "      <td>0.000000</td>\n",
       "      <td>0.000000</td>\n",
       "      <td>0.000000</td>\n",
       "      <td>0.000000</td>\n",
       "      <td>0.000000</td>\n",
       "      <td>0.000000</td>\n",
       "      <td>0.000000</td>\n",
       "    </tr>\n",
       "    <tr>\n",
       "      <th>50%</th>\n",
       "      <td>1490.000000</td>\n",
       "      <td>3.000000</td>\n",
       "      <td>0.000000</td>\n",
       "      <td>0.000000</td>\n",
       "      <td>0.000000</td>\n",
       "      <td>0.000000</td>\n",
       "      <td>0.00000</td>\n",
       "      <td>0.000000</td>\n",
       "      <td>0.000000</td>\n",
       "      <td>0.000000</td>\n",
       "      <td>...</td>\n",
       "      <td>1.000000</td>\n",
       "      <td>0.000000</td>\n",
       "      <td>0.000000</td>\n",
       "      <td>0.000000</td>\n",
       "      <td>0.000000</td>\n",
       "      <td>0.000000</td>\n",
       "      <td>0.000000</td>\n",
       "      <td>0.000000</td>\n",
       "      <td>0.000000</td>\n",
       "      <td>0.000000</td>\n",
       "    </tr>\n",
       "    <tr>\n",
       "      <th>75%</th>\n",
       "      <td>1821.500000</td>\n",
       "      <td>3.000000</td>\n",
       "      <td>0.000000</td>\n",
       "      <td>0.000000</td>\n",
       "      <td>1.000000</td>\n",
       "      <td>1.000000</td>\n",
       "      <td>1.00000</td>\n",
       "      <td>1.000000</td>\n",
       "      <td>1.000000</td>\n",
       "      <td>1.000000</td>\n",
       "      <td>...</td>\n",
       "      <td>1.000000</td>\n",
       "      <td>0.000000</td>\n",
       "      <td>1.000000</td>\n",
       "      <td>0.000000</td>\n",
       "      <td>0.000000</td>\n",
       "      <td>0.000000</td>\n",
       "      <td>0.000000</td>\n",
       "      <td>0.000000</td>\n",
       "      <td>0.000000</td>\n",
       "      <td>0.000000</td>\n",
       "    </tr>\n",
       "    <tr>\n",
       "      <th>max</th>\n",
       "      <td>9400.000000</td>\n",
       "      <td>8.000000</td>\n",
       "      <td>1.000000</td>\n",
       "      <td>9.000000</td>\n",
       "      <td>9.000000</td>\n",
       "      <td>9.000000</td>\n",
       "      <td>9.00000</td>\n",
       "      <td>9.000000</td>\n",
       "      <td>9.000000</td>\n",
       "      <td>9.000000</td>\n",
       "      <td>...</td>\n",
       "      <td>9.000000</td>\n",
       "      <td>9.000000</td>\n",
       "      <td>9.000000</td>\n",
       "      <td>9.000000</td>\n",
       "      <td>9.000000</td>\n",
       "      <td>9.000000</td>\n",
       "      <td>9.000000</td>\n",
       "      <td>9.000000</td>\n",
       "      <td>9.000000</td>\n",
       "      <td>9.000000</td>\n",
       "    </tr>\n",
       "  </tbody>\n",
       "</table>\n",
       "<p>8 rows × 38 columns</p>\n",
       "</div>"
      ],
      "text/plain": [
       "              Area  No. of Bedrooms       Resale  MaintenanceStaff  \\\n",
       "count  2014.000000      2009.000000  2014.000000       2014.000000   \n",
       "mean   1643.760675         2.619711     0.223436          0.413605   \n",
       "std     756.381980         0.686908     0.416652          1.624524   \n",
       "min     500.000000         1.000000     0.000000          0.000000   \n",
       "25%    1160.000000         2.000000     0.000000          0.000000   \n",
       "50%    1490.000000         3.000000     0.000000          0.000000   \n",
       "75%    1821.500000         3.000000     0.000000          0.000000   \n",
       "max    9400.000000         8.000000     1.000000          9.000000   \n",
       "\n",
       "         Gymnasium  SwimmingPool  LandscapedGardens  JoggingTrack  \\\n",
       "count  2014.000000   2014.000000         2014.00000   2014.000000   \n",
       "mean      0.737339      0.701589            0.61569      0.558093   \n",
       "std       1.609407      1.614277            1.62270      1.625783   \n",
       "min       0.000000      0.000000            0.00000      0.000000   \n",
       "25%       0.000000      0.000000            0.00000      0.000000   \n",
       "50%       0.000000      0.000000            0.00000      0.000000   \n",
       "75%       1.000000      1.000000            1.00000      1.000000   \n",
       "max       9.000000      9.000000            9.00000      9.000000   \n",
       "\n",
       "       RainWaterHarvesting  IndoorGames  ...  LiftAvailable          BED  \\\n",
       "count          2014.000000  2014.000000  ...    2014.000000  2014.000000   \n",
       "mean              0.609235     0.580933  ...       0.966733     0.357498   \n",
       "std               1.623148     1.624806  ...       1.558397     1.620565   \n",
       "min               0.000000     0.000000  ...       0.000000     0.000000   \n",
       "25%               0.000000     0.000000  ...       0.000000     0.000000   \n",
       "50%               0.000000     0.000000  ...       1.000000     0.000000   \n",
       "75%               1.000000     1.000000  ...       1.000000     0.000000   \n",
       "max               9.000000     9.000000  ...       9.000000     9.000000   \n",
       "\n",
       "       VaastuCompliant    Microwave   GolfCourse           TV  DiningTable  \\\n",
       "count      2014.000000  2014.000000  2014.000000  2014.000000  2014.000000   \n",
       "mean          0.605760     0.341112     0.330189     0.321251     0.332175   \n",
       "std           1.623378     1.619040     1.617930     1.616966     1.618137   \n",
       "min           0.000000     0.000000     0.000000     0.000000     0.000000   \n",
       "25%           0.000000     0.000000     0.000000     0.000000     0.000000   \n",
       "50%           0.000000     0.000000     0.000000     0.000000     0.000000   \n",
       "75%           1.000000     0.000000     0.000000     0.000000     0.000000   \n",
       "max           9.000000     9.000000     9.000000     9.000000     9.000000   \n",
       "\n",
       "              Sofa     Wardrobe  Refrigerator  \n",
       "count  2014.000000  2014.000000   2014.000000  \n",
       "mean      0.341609     0.339126      0.324230  \n",
       "std       1.619088     1.618843      1.617293  \n",
       "min       0.000000     0.000000      0.000000  \n",
       "25%       0.000000     0.000000      0.000000  \n",
       "50%       0.000000     0.000000      0.000000  \n",
       "75%       0.000000     0.000000      0.000000  \n",
       "max       9.000000     9.000000      9.000000  \n",
       "\n",
       "[8 rows x 38 columns]"
      ]
     },
     "execution_count": 30,
     "metadata": {},
     "output_type": "execute_result"
    }
   ],
   "source": [
    "housing.describe()"
   ]
  },
  {
   "cell_type": "code",
   "execution_count": 31,
   "id": "8f50c8b6",
   "metadata": {},
   "outputs": [
    {
     "data": {
      "text/html": [
       "<style>#sk-container-id-1 {color: black;background-color: white;}#sk-container-id-1 pre{padding: 0;}#sk-container-id-1 div.sk-toggleable {background-color: white;}#sk-container-id-1 label.sk-toggleable__label {cursor: pointer;display: block;width: 100%;margin-bottom: 0;padding: 0.3em;box-sizing: border-box;text-align: center;}#sk-container-id-1 label.sk-toggleable__label-arrow:before {content: \"▸\";float: left;margin-right: 0.25em;color: #696969;}#sk-container-id-1 label.sk-toggleable__label-arrow:hover:before {color: black;}#sk-container-id-1 div.sk-estimator:hover label.sk-toggleable__label-arrow:before {color: black;}#sk-container-id-1 div.sk-toggleable__content {max-height: 0;max-width: 0;overflow: hidden;text-align: left;background-color: #f0f8ff;}#sk-container-id-1 div.sk-toggleable__content pre {margin: 0.2em;color: black;border-radius: 0.25em;background-color: #f0f8ff;}#sk-container-id-1 input.sk-toggleable__control:checked~div.sk-toggleable__content {max-height: 200px;max-width: 100%;overflow: auto;}#sk-container-id-1 input.sk-toggleable__control:checked~label.sk-toggleable__label-arrow:before {content: \"▾\";}#sk-container-id-1 div.sk-estimator input.sk-toggleable__control:checked~label.sk-toggleable__label {background-color: #d4ebff;}#sk-container-id-1 div.sk-label input.sk-toggleable__control:checked~label.sk-toggleable__label {background-color: #d4ebff;}#sk-container-id-1 input.sk-hidden--visually {border: 0;clip: rect(1px 1px 1px 1px);clip: rect(1px, 1px, 1px, 1px);height: 1px;margin: -1px;overflow: hidden;padding: 0;position: absolute;width: 1px;}#sk-container-id-1 div.sk-estimator {font-family: monospace;background-color: #f0f8ff;border: 1px dotted black;border-radius: 0.25em;box-sizing: border-box;margin-bottom: 0.5em;}#sk-container-id-1 div.sk-estimator:hover {background-color: #d4ebff;}#sk-container-id-1 div.sk-parallel-item::after {content: \"\";width: 100%;border-bottom: 1px solid gray;flex-grow: 1;}#sk-container-id-1 div.sk-label:hover label.sk-toggleable__label {background-color: #d4ebff;}#sk-container-id-1 div.sk-serial::before {content: \"\";position: absolute;border-left: 1px solid gray;box-sizing: border-box;top: 0;bottom: 0;left: 50%;z-index: 0;}#sk-container-id-1 div.sk-serial {display: flex;flex-direction: column;align-items: center;background-color: white;padding-right: 0.2em;padding-left: 0.2em;position: relative;}#sk-container-id-1 div.sk-item {position: relative;z-index: 1;}#sk-container-id-1 div.sk-parallel {display: flex;align-items: stretch;justify-content: center;background-color: white;position: relative;}#sk-container-id-1 div.sk-item::before, #sk-container-id-1 div.sk-parallel-item::before {content: \"\";position: absolute;border-left: 1px solid gray;box-sizing: border-box;top: 0;bottom: 0;left: 50%;z-index: -1;}#sk-container-id-1 div.sk-parallel-item {display: flex;flex-direction: column;z-index: 1;position: relative;background-color: white;}#sk-container-id-1 div.sk-parallel-item:first-child::after {align-self: flex-end;width: 50%;}#sk-container-id-1 div.sk-parallel-item:last-child::after {align-self: flex-start;width: 50%;}#sk-container-id-1 div.sk-parallel-item:only-child::after {width: 0;}#sk-container-id-1 div.sk-dashed-wrapped {border: 1px dashed gray;margin: 0 0.4em 0.5em 0.4em;box-sizing: border-box;padding-bottom: 0.4em;background-color: white;}#sk-container-id-1 div.sk-label label {font-family: monospace;font-weight: bold;display: inline-block;line-height: 1.2em;}#sk-container-id-1 div.sk-label-container {text-align: center;}#sk-container-id-1 div.sk-container {/* jupyter's `normalize.less` sets `[hidden] { display: none; }` but bootstrap.min.css set `[hidden] { display: none !important; }` so we also need the `!important` here to be able to override the default hidden behavior on the sphinx rendered scikit-learn.org. See: https://github.com/scikit-learn/scikit-learn/issues/21755 */display: inline-block !important;position: relative;}#sk-container-id-1 div.sk-text-repr-fallback {display: none;}</style><div id=\"sk-container-id-1\" class=\"sk-top-container\"><div class=\"sk-text-repr-fallback\"><pre>SimpleImputer(strategy=&#x27;median&#x27;)</pre><b>In a Jupyter environment, please rerun this cell to show the HTML representation or trust the notebook. <br />On GitHub, the HTML representation is unable to render, please try loading this page with nbviewer.org.</b></div><div class=\"sk-container\" hidden><div class=\"sk-item\"><div class=\"sk-estimator sk-toggleable\"><input class=\"sk-toggleable__control sk-hidden--visually\" id=\"sk-estimator-id-1\" type=\"checkbox\" checked><label for=\"sk-estimator-id-1\" class=\"sk-toggleable__label sk-toggleable__label-arrow\">SimpleImputer</label><div class=\"sk-toggleable__content\"><pre>SimpleImputer(strategy=&#x27;median&#x27;)</pre></div></div></div></div></div>"
      ],
      "text/plain": [
       "SimpleImputer(strategy='median')"
      ]
     },
     "execution_count": 31,
     "metadata": {},
     "output_type": "execute_result"
    }
   ],
   "source": [
    "from sklearn.impute import SimpleImputer\n",
    "imputer = SimpleImputer(strategy=\"median\")\n",
    "imputer.fit(housing)"
   ]
  },
  {
   "cell_type": "code",
   "execution_count": 32,
   "id": "8e542129",
   "metadata": {},
   "outputs": [
    {
     "data": {
      "text/plain": [
       "array([1.49e+03, 3.00e+00, 0.00e+00, 0.00e+00, 0.00e+00, 0.00e+00,\n",
       "       0.00e+00, 0.00e+00, 0.00e+00, 0.00e+00, 0.00e+00, 0.00e+00,\n",
       "       0.00e+00, 0.00e+00, 0.00e+00, 0.00e+00, 0.00e+00, 1.00e+00,\n",
       "       0.00e+00, 0.00e+00, 0.00e+00, 0.00e+00, 0.00e+00, 0.00e+00,\n",
       "       0.00e+00, 0.00e+00, 0.00e+00, 0.00e+00, 1.00e+00, 0.00e+00,\n",
       "       0.00e+00, 0.00e+00, 0.00e+00, 0.00e+00, 0.00e+00, 0.00e+00,\n",
       "       0.00e+00, 0.00e+00])"
      ]
     },
     "execution_count": 32,
     "metadata": {},
     "output_type": "execute_result"
    }
   ],
   "source": [
    "imputer.statistics_"
   ]
  },
  {
   "cell_type": "code",
   "execution_count": 33,
   "id": "a72f7fa9",
   "metadata": {},
   "outputs": [],
   "source": [
    "X=imputer.transform(housing)"
   ]
  },
  {
   "cell_type": "code",
   "execution_count": 34,
   "id": "a205c5d7",
   "metadata": {},
   "outputs": [],
   "source": [
    "housing_tr=pd.DataFrame(X, columns=housing.columns)"
   ]
  },
  {
   "cell_type": "code",
   "execution_count": 35,
   "id": "7a0b88d1",
   "metadata": {},
   "outputs": [
    {
     "data": {
      "text/html": [
       "<div>\n",
       "<style scoped>\n",
       "    .dataframe tbody tr th:only-of-type {\n",
       "        vertical-align: middle;\n",
       "    }\n",
       "\n",
       "    .dataframe tbody tr th {\n",
       "        vertical-align: top;\n",
       "    }\n",
       "\n",
       "    .dataframe thead th {\n",
       "        text-align: right;\n",
       "    }\n",
       "</style>\n",
       "<table border=\"1\" class=\"dataframe\">\n",
       "  <thead>\n",
       "    <tr style=\"text-align: right;\">\n",
       "      <th></th>\n",
       "      <th>Area</th>\n",
       "      <th>No. of Bedrooms</th>\n",
       "      <th>Resale</th>\n",
       "      <th>MaintenanceStaff</th>\n",
       "      <th>Gymnasium</th>\n",
       "      <th>SwimmingPool</th>\n",
       "      <th>LandscapedGardens</th>\n",
       "      <th>JoggingTrack</th>\n",
       "      <th>RainWaterHarvesting</th>\n",
       "      <th>IndoorGames</th>\n",
       "      <th>...</th>\n",
       "      <th>LiftAvailable</th>\n",
       "      <th>BED</th>\n",
       "      <th>VaastuCompliant</th>\n",
       "      <th>Microwave</th>\n",
       "      <th>GolfCourse</th>\n",
       "      <th>TV</th>\n",
       "      <th>DiningTable</th>\n",
       "      <th>Sofa</th>\n",
       "      <th>Wardrobe</th>\n",
       "      <th>Refrigerator</th>\n",
       "    </tr>\n",
       "  </thead>\n",
       "  <tbody>\n",
       "    <tr>\n",
       "      <th>count</th>\n",
       "      <td>2014.000000</td>\n",
       "      <td>2014.000000</td>\n",
       "      <td>2014.000000</td>\n",
       "      <td>2014.000000</td>\n",
       "      <td>2014.000000</td>\n",
       "      <td>2014.000000</td>\n",
       "      <td>2014.00000</td>\n",
       "      <td>2014.000000</td>\n",
       "      <td>2014.000000</td>\n",
       "      <td>2014.000000</td>\n",
       "      <td>...</td>\n",
       "      <td>2014.000000</td>\n",
       "      <td>2014.000000</td>\n",
       "      <td>2014.000000</td>\n",
       "      <td>2014.000000</td>\n",
       "      <td>2014.000000</td>\n",
       "      <td>2014.000000</td>\n",
       "      <td>2014.000000</td>\n",
       "      <td>2014.000000</td>\n",
       "      <td>2014.000000</td>\n",
       "      <td>2014.000000</td>\n",
       "    </tr>\n",
       "    <tr>\n",
       "      <th>mean</th>\n",
       "      <td>1643.760675</td>\n",
       "      <td>2.620655</td>\n",
       "      <td>0.223436</td>\n",
       "      <td>0.413605</td>\n",
       "      <td>0.737339</td>\n",
       "      <td>0.701589</td>\n",
       "      <td>0.61569</td>\n",
       "      <td>0.558093</td>\n",
       "      <td>0.609235</td>\n",
       "      <td>0.580933</td>\n",
       "      <td>...</td>\n",
       "      <td>0.966733</td>\n",
       "      <td>0.357498</td>\n",
       "      <td>0.605760</td>\n",
       "      <td>0.341112</td>\n",
       "      <td>0.330189</td>\n",
       "      <td>0.321251</td>\n",
       "      <td>0.332175</td>\n",
       "      <td>0.341609</td>\n",
       "      <td>0.339126</td>\n",
       "      <td>0.324230</td>\n",
       "    </tr>\n",
       "    <tr>\n",
       "      <th>std</th>\n",
       "      <td>756.381980</td>\n",
       "      <td>0.686315</td>\n",
       "      <td>0.416652</td>\n",
       "      <td>1.624524</td>\n",
       "      <td>1.609407</td>\n",
       "      <td>1.614277</td>\n",
       "      <td>1.62270</td>\n",
       "      <td>1.625783</td>\n",
       "      <td>1.623148</td>\n",
       "      <td>1.624806</td>\n",
       "      <td>...</td>\n",
       "      <td>1.558397</td>\n",
       "      <td>1.620565</td>\n",
       "      <td>1.623378</td>\n",
       "      <td>1.619040</td>\n",
       "      <td>1.617930</td>\n",
       "      <td>1.616966</td>\n",
       "      <td>1.618137</td>\n",
       "      <td>1.619088</td>\n",
       "      <td>1.618843</td>\n",
       "      <td>1.617293</td>\n",
       "    </tr>\n",
       "    <tr>\n",
       "      <th>min</th>\n",
       "      <td>500.000000</td>\n",
       "      <td>1.000000</td>\n",
       "      <td>0.000000</td>\n",
       "      <td>0.000000</td>\n",
       "      <td>0.000000</td>\n",
       "      <td>0.000000</td>\n",
       "      <td>0.00000</td>\n",
       "      <td>0.000000</td>\n",
       "      <td>0.000000</td>\n",
       "      <td>0.000000</td>\n",
       "      <td>...</td>\n",
       "      <td>0.000000</td>\n",
       "      <td>0.000000</td>\n",
       "      <td>0.000000</td>\n",
       "      <td>0.000000</td>\n",
       "      <td>0.000000</td>\n",
       "      <td>0.000000</td>\n",
       "      <td>0.000000</td>\n",
       "      <td>0.000000</td>\n",
       "      <td>0.000000</td>\n",
       "      <td>0.000000</td>\n",
       "    </tr>\n",
       "    <tr>\n",
       "      <th>25%</th>\n",
       "      <td>1160.000000</td>\n",
       "      <td>2.000000</td>\n",
       "      <td>0.000000</td>\n",
       "      <td>0.000000</td>\n",
       "      <td>0.000000</td>\n",
       "      <td>0.000000</td>\n",
       "      <td>0.00000</td>\n",
       "      <td>0.000000</td>\n",
       "      <td>0.000000</td>\n",
       "      <td>0.000000</td>\n",
       "      <td>...</td>\n",
       "      <td>0.000000</td>\n",
       "      <td>0.000000</td>\n",
       "      <td>0.000000</td>\n",
       "      <td>0.000000</td>\n",
       "      <td>0.000000</td>\n",
       "      <td>0.000000</td>\n",
       "      <td>0.000000</td>\n",
       "      <td>0.000000</td>\n",
       "      <td>0.000000</td>\n",
       "      <td>0.000000</td>\n",
       "    </tr>\n",
       "    <tr>\n",
       "      <th>50%</th>\n",
       "      <td>1490.000000</td>\n",
       "      <td>3.000000</td>\n",
       "      <td>0.000000</td>\n",
       "      <td>0.000000</td>\n",
       "      <td>0.000000</td>\n",
       "      <td>0.000000</td>\n",
       "      <td>0.00000</td>\n",
       "      <td>0.000000</td>\n",
       "      <td>0.000000</td>\n",
       "      <td>0.000000</td>\n",
       "      <td>...</td>\n",
       "      <td>1.000000</td>\n",
       "      <td>0.000000</td>\n",
       "      <td>0.000000</td>\n",
       "      <td>0.000000</td>\n",
       "      <td>0.000000</td>\n",
       "      <td>0.000000</td>\n",
       "      <td>0.000000</td>\n",
       "      <td>0.000000</td>\n",
       "      <td>0.000000</td>\n",
       "      <td>0.000000</td>\n",
       "    </tr>\n",
       "    <tr>\n",
       "      <th>75%</th>\n",
       "      <td>1821.500000</td>\n",
       "      <td>3.000000</td>\n",
       "      <td>0.000000</td>\n",
       "      <td>0.000000</td>\n",
       "      <td>1.000000</td>\n",
       "      <td>1.000000</td>\n",
       "      <td>1.00000</td>\n",
       "      <td>1.000000</td>\n",
       "      <td>1.000000</td>\n",
       "      <td>1.000000</td>\n",
       "      <td>...</td>\n",
       "      <td>1.000000</td>\n",
       "      <td>0.000000</td>\n",
       "      <td>1.000000</td>\n",
       "      <td>0.000000</td>\n",
       "      <td>0.000000</td>\n",
       "      <td>0.000000</td>\n",
       "      <td>0.000000</td>\n",
       "      <td>0.000000</td>\n",
       "      <td>0.000000</td>\n",
       "      <td>0.000000</td>\n",
       "    </tr>\n",
       "    <tr>\n",
       "      <th>max</th>\n",
       "      <td>9400.000000</td>\n",
       "      <td>8.000000</td>\n",
       "      <td>1.000000</td>\n",
       "      <td>9.000000</td>\n",
       "      <td>9.000000</td>\n",
       "      <td>9.000000</td>\n",
       "      <td>9.00000</td>\n",
       "      <td>9.000000</td>\n",
       "      <td>9.000000</td>\n",
       "      <td>9.000000</td>\n",
       "      <td>...</td>\n",
       "      <td>9.000000</td>\n",
       "      <td>9.000000</td>\n",
       "      <td>9.000000</td>\n",
       "      <td>9.000000</td>\n",
       "      <td>9.000000</td>\n",
       "      <td>9.000000</td>\n",
       "      <td>9.000000</td>\n",
       "      <td>9.000000</td>\n",
       "      <td>9.000000</td>\n",
       "      <td>9.000000</td>\n",
       "    </tr>\n",
       "  </tbody>\n",
       "</table>\n",
       "<p>8 rows × 38 columns</p>\n",
       "</div>"
      ],
      "text/plain": [
       "              Area  No. of Bedrooms       Resale  MaintenanceStaff  \\\n",
       "count  2014.000000      2014.000000  2014.000000       2014.000000   \n",
       "mean   1643.760675         2.620655     0.223436          0.413605   \n",
       "std     756.381980         0.686315     0.416652          1.624524   \n",
       "min     500.000000         1.000000     0.000000          0.000000   \n",
       "25%    1160.000000         2.000000     0.000000          0.000000   \n",
       "50%    1490.000000         3.000000     0.000000          0.000000   \n",
       "75%    1821.500000         3.000000     0.000000          0.000000   \n",
       "max    9400.000000         8.000000     1.000000          9.000000   \n",
       "\n",
       "         Gymnasium  SwimmingPool  LandscapedGardens  JoggingTrack  \\\n",
       "count  2014.000000   2014.000000         2014.00000   2014.000000   \n",
       "mean      0.737339      0.701589            0.61569      0.558093   \n",
       "std       1.609407      1.614277            1.62270      1.625783   \n",
       "min       0.000000      0.000000            0.00000      0.000000   \n",
       "25%       0.000000      0.000000            0.00000      0.000000   \n",
       "50%       0.000000      0.000000            0.00000      0.000000   \n",
       "75%       1.000000      1.000000            1.00000      1.000000   \n",
       "max       9.000000      9.000000            9.00000      9.000000   \n",
       "\n",
       "       RainWaterHarvesting  IndoorGames  ...  LiftAvailable          BED  \\\n",
       "count          2014.000000  2014.000000  ...    2014.000000  2014.000000   \n",
       "mean              0.609235     0.580933  ...       0.966733     0.357498   \n",
       "std               1.623148     1.624806  ...       1.558397     1.620565   \n",
       "min               0.000000     0.000000  ...       0.000000     0.000000   \n",
       "25%               0.000000     0.000000  ...       0.000000     0.000000   \n",
       "50%               0.000000     0.000000  ...       1.000000     0.000000   \n",
       "75%               1.000000     1.000000  ...       1.000000     0.000000   \n",
       "max               9.000000     9.000000  ...       9.000000     9.000000   \n",
       "\n",
       "       VaastuCompliant    Microwave   GolfCourse           TV  DiningTable  \\\n",
       "count      2014.000000  2014.000000  2014.000000  2014.000000  2014.000000   \n",
       "mean          0.605760     0.341112     0.330189     0.321251     0.332175   \n",
       "std           1.623378     1.619040     1.617930     1.616966     1.618137   \n",
       "min           0.000000     0.000000     0.000000     0.000000     0.000000   \n",
       "25%           0.000000     0.000000     0.000000     0.000000     0.000000   \n",
       "50%           0.000000     0.000000     0.000000     0.000000     0.000000   \n",
       "75%           1.000000     0.000000     0.000000     0.000000     0.000000   \n",
       "max           9.000000     9.000000     9.000000     9.000000     9.000000   \n",
       "\n",
       "              Sofa     Wardrobe  Refrigerator  \n",
       "count  2014.000000  2014.000000   2014.000000  \n",
       "mean      0.341609     0.339126      0.324230  \n",
       "std       1.619088     1.618843      1.617293  \n",
       "min       0.000000     0.000000      0.000000  \n",
       "25%       0.000000     0.000000      0.000000  \n",
       "50%       0.000000     0.000000      0.000000  \n",
       "75%       0.000000     0.000000      0.000000  \n",
       "max       9.000000     9.000000      9.000000  \n",
       "\n",
       "[8 rows x 38 columns]"
      ]
     },
     "execution_count": 35,
     "metadata": {},
     "output_type": "execute_result"
    }
   ],
   "source": [
    "housing_tr.describe()"
   ]
  },
  {
   "cell_type": "markdown",
   "id": "b398f12a",
   "metadata": {},
   "source": [
    "## Scikit-learn design"
   ]
  },
  {
   "cell_type": "markdown",
   "id": "34daba25",
   "metadata": {},
   "source": [
    " Primarily three types of objects\n",
    " 1. Estimators\n",
    " 2. Transformers\n",
    " 3. Predictors"
   ]
  },
  {
   "cell_type": "markdown",
   "id": "92d57257",
   "metadata": {},
   "source": [
    "## Feature Scaling"
   ]
  },
  {
   "cell_type": "markdown",
   "id": "c425abbc",
   "metadata": {},
   "source": [
    "Primarily, two types of feature scaling\n",
    "1. Min-Max(Normalization)\n",
    "2. Standardization"
   ]
  },
  {
   "cell_type": "markdown",
   "id": "19564b74",
   "metadata": {},
   "source": [
    "## Creating Pipeline"
   ]
  },
  {
   "cell_type": "code",
   "execution_count": 36,
   "id": "2880cd65",
   "metadata": {},
   "outputs": [],
   "source": [
    "# from sklearn.impute import SimpleImputer\n",
    "from sklearn.pipeline import Pipeline\n",
    "from sklearn.preprocessing import StandardScaler\n",
    "my_pipeline = Pipeline([\n",
    "    ('imputer', SimpleImputer(strategy=\"median\")),\n",
    "    ('std_scaler', StandardScaler()),\n",
    "])\n"
   ]
  },
  {
   "cell_type": "code",
   "execution_count": 37,
   "id": "5f804cc8",
   "metadata": {},
   "outputs": [],
   "source": [
    "housing_num_tr=my_pipeline.fit_transform(housing)"
   ]
  },
  {
   "cell_type": "code",
   "execution_count": 38,
   "id": "b331c20e",
   "metadata": {},
   "outputs": [
    {
     "data": {
      "text/plain": [
       "(2014, 38)"
      ]
     },
     "execution_count": 38,
     "metadata": {},
     "output_type": "execute_result"
    }
   ],
   "source": [
    "housing_num_tr.shape"
   ]
  },
  {
   "cell_type": "markdown",
   "id": "82957290",
   "metadata": {},
   "source": [
    "## Selecting a model for predictions"
   ]
  },
  {
   "cell_type": "code",
   "execution_count": 39,
   "id": "36dbc18a",
   "metadata": {},
   "outputs": [
    {
     "data": {
      "text/html": [
       "<style>#sk-container-id-2 {color: black;background-color: white;}#sk-container-id-2 pre{padding: 0;}#sk-container-id-2 div.sk-toggleable {background-color: white;}#sk-container-id-2 label.sk-toggleable__label {cursor: pointer;display: block;width: 100%;margin-bottom: 0;padding: 0.3em;box-sizing: border-box;text-align: center;}#sk-container-id-2 label.sk-toggleable__label-arrow:before {content: \"▸\";float: left;margin-right: 0.25em;color: #696969;}#sk-container-id-2 label.sk-toggleable__label-arrow:hover:before {color: black;}#sk-container-id-2 div.sk-estimator:hover label.sk-toggleable__label-arrow:before {color: black;}#sk-container-id-2 div.sk-toggleable__content {max-height: 0;max-width: 0;overflow: hidden;text-align: left;background-color: #f0f8ff;}#sk-container-id-2 div.sk-toggleable__content pre {margin: 0.2em;color: black;border-radius: 0.25em;background-color: #f0f8ff;}#sk-container-id-2 input.sk-toggleable__control:checked~div.sk-toggleable__content {max-height: 200px;max-width: 100%;overflow: auto;}#sk-container-id-2 input.sk-toggleable__control:checked~label.sk-toggleable__label-arrow:before {content: \"▾\";}#sk-container-id-2 div.sk-estimator input.sk-toggleable__control:checked~label.sk-toggleable__label {background-color: #d4ebff;}#sk-container-id-2 div.sk-label input.sk-toggleable__control:checked~label.sk-toggleable__label {background-color: #d4ebff;}#sk-container-id-2 input.sk-hidden--visually {border: 0;clip: rect(1px 1px 1px 1px);clip: rect(1px, 1px, 1px, 1px);height: 1px;margin: -1px;overflow: hidden;padding: 0;position: absolute;width: 1px;}#sk-container-id-2 div.sk-estimator {font-family: monospace;background-color: #f0f8ff;border: 1px dotted black;border-radius: 0.25em;box-sizing: border-box;margin-bottom: 0.5em;}#sk-container-id-2 div.sk-estimator:hover {background-color: #d4ebff;}#sk-container-id-2 div.sk-parallel-item::after {content: \"\";width: 100%;border-bottom: 1px solid gray;flex-grow: 1;}#sk-container-id-2 div.sk-label:hover label.sk-toggleable__label {background-color: #d4ebff;}#sk-container-id-2 div.sk-serial::before {content: \"\";position: absolute;border-left: 1px solid gray;box-sizing: border-box;top: 0;bottom: 0;left: 50%;z-index: 0;}#sk-container-id-2 div.sk-serial {display: flex;flex-direction: column;align-items: center;background-color: white;padding-right: 0.2em;padding-left: 0.2em;position: relative;}#sk-container-id-2 div.sk-item {position: relative;z-index: 1;}#sk-container-id-2 div.sk-parallel {display: flex;align-items: stretch;justify-content: center;background-color: white;position: relative;}#sk-container-id-2 div.sk-item::before, #sk-container-id-2 div.sk-parallel-item::before {content: \"\";position: absolute;border-left: 1px solid gray;box-sizing: border-box;top: 0;bottom: 0;left: 50%;z-index: -1;}#sk-container-id-2 div.sk-parallel-item {display: flex;flex-direction: column;z-index: 1;position: relative;background-color: white;}#sk-container-id-2 div.sk-parallel-item:first-child::after {align-self: flex-end;width: 50%;}#sk-container-id-2 div.sk-parallel-item:last-child::after {align-self: flex-start;width: 50%;}#sk-container-id-2 div.sk-parallel-item:only-child::after {width: 0;}#sk-container-id-2 div.sk-dashed-wrapped {border: 1px dashed gray;margin: 0 0.4em 0.5em 0.4em;box-sizing: border-box;padding-bottom: 0.4em;background-color: white;}#sk-container-id-2 div.sk-label label {font-family: monospace;font-weight: bold;display: inline-block;line-height: 1.2em;}#sk-container-id-2 div.sk-label-container {text-align: center;}#sk-container-id-2 div.sk-container {/* jupyter's `normalize.less` sets `[hidden] { display: none; }` but bootstrap.min.css set `[hidden] { display: none !important; }` so we also need the `!important` here to be able to override the default hidden behavior on the sphinx rendered scikit-learn.org. See: https://github.com/scikit-learn/scikit-learn/issues/21755 */display: inline-block !important;position: relative;}#sk-container-id-2 div.sk-text-repr-fallback {display: none;}</style><div id=\"sk-container-id-2\" class=\"sk-top-container\"><div class=\"sk-text-repr-fallback\"><pre>DecisionTreeRegressor()</pre><b>In a Jupyter environment, please rerun this cell to show the HTML representation or trust the notebook. <br />On GitHub, the HTML representation is unable to render, please try loading this page with nbviewer.org.</b></div><div class=\"sk-container\" hidden><div class=\"sk-item\"><div class=\"sk-estimator sk-toggleable\"><input class=\"sk-toggleable__control sk-hidden--visually\" id=\"sk-estimator-id-2\" type=\"checkbox\" checked><label for=\"sk-estimator-id-2\" class=\"sk-toggleable__label sk-toggleable__label-arrow\">DecisionTreeRegressor</label><div class=\"sk-toggleable__content\"><pre>DecisionTreeRegressor()</pre></div></div></div></div></div>"
      ],
      "text/plain": [
       "DecisionTreeRegressor()"
      ]
     },
     "execution_count": 39,
     "metadata": {},
     "output_type": "execute_result"
    }
   ],
   "source": [
    "from sklearn.linear_model import LinearRegression\n",
    "from sklearn.tree import DecisionTreeRegressor\n",
    "from sklearn.ensemble import RandomForestRegressor\n",
    "#model=LinearRegression()\n",
    "model=DecisionTreeRegressor()\n",
    "#model=RandomForestRegressor()\n",
    "model.fit(housing_num_tr, housing_labels)\n"
   ]
  },
  {
   "cell_type": "code",
   "execution_count": 40,
   "id": "5e270cf1",
   "metadata": {},
   "outputs": [],
   "source": [
    "some_data=housing.iloc[:5]"
   ]
  },
  {
   "cell_type": "code",
   "execution_count": 41,
   "id": "0c6a916c",
   "metadata": {},
   "outputs": [],
   "source": [
    "some_labels=housing_labels.iloc[:5]"
   ]
  },
  {
   "cell_type": "code",
   "execution_count": 42,
   "id": "f62c90c9",
   "metadata": {},
   "outputs": [],
   "source": [
    "prepared_data=my_pipeline.transform(some_data)"
   ]
  },
  {
   "cell_type": "code",
   "execution_count": 43,
   "id": "fde7108e",
   "metadata": {},
   "outputs": [
    {
     "data": {
      "text/plain": [
       "array([10500000.        ,  6317142.85714286, 12000000.        ,\n",
       "        7593000.        , 17000000.        ])"
      ]
     },
     "execution_count": 43,
     "metadata": {},
     "output_type": "execute_result"
    }
   ],
   "source": [
    "model.predict(prepared_data)"
   ]
  },
  {
   "cell_type": "code",
   "execution_count": 44,
   "id": "dad485ff",
   "metadata": {},
   "outputs": [
    {
     "data": {
      "text/plain": [
       "[10500000, 4680000, 12000000, 7593000, 17000000]"
      ]
     },
     "execution_count": 44,
     "metadata": {},
     "output_type": "execute_result"
    }
   ],
   "source": [
    "list(some_labels)"
   ]
  },
  {
   "cell_type": "markdown",
   "id": "ebb15573",
   "metadata": {},
   "source": [
    "# Evaluating the model"
   ]
  },
  {
   "cell_type": "code",
   "execution_count": 45,
   "id": "25eca42a",
   "metadata": {},
   "outputs": [],
   "source": [
    "from sklearn.metrics import mean_squared_error\n",
    "housing_predictions=model.predict(housing_num_tr)\n",
    "lin_mse = mean_squared_error(housing_labels, housing_predictions)\n",
    "lin_rmse=np.sqrt(lin_mse)"
   ]
  },
  {
   "cell_type": "code",
   "execution_count": 46,
   "id": "0c69cfc4",
   "metadata": {},
   "outputs": [
    {
     "data": {
      "text/plain": [
       "624504.4362819868"
      ]
     },
     "execution_count": 46,
     "metadata": {},
     "output_type": "execute_result"
    }
   ],
   "source": [
    "lin_rmse"
   ]
  },
  {
   "cell_type": "markdown",
   "id": "6902413c",
   "metadata": {},
   "source": [
    "# Using better technique- Cross Validation"
   ]
  },
  {
   "cell_type": "code",
   "execution_count": 47,
   "id": "a10e9d45",
   "metadata": {},
   "outputs": [],
   "source": [
    "from sklearn.model_selection import cross_val_score\n",
    "scores=cross_val_score(model, housing_num_tr, housing_labels, scoring=\"neg_mean_squared_error\", cv=10)\n",
    "rmse_scores=np.sqrt(-scores)"
   ]
  },
  {
   "cell_type": "code",
   "execution_count": 48,
   "id": "575eaf88",
   "metadata": {},
   "outputs": [
    {
     "data": {
      "text/plain": [
       "[5749616.423535466,\n",
       " 4286307.2853050595,\n",
       " 4829892.933333275,\n",
       " 4335232.548468733,\n",
       " 3551564.0615383955,\n",
       " 4990710.612358387,\n",
       " 4363044.525054381,\n",
       " 3664142.6920468076,\n",
       " 3923382.2748644133,\n",
       " 5386091.717611292]"
      ]
     },
     "execution_count": 48,
     "metadata": {},
     "output_type": "execute_result"
    }
   ],
   "source": [
    "list(rmse_scores)"
   ]
  },
  {
   "cell_type": "code",
   "execution_count": 49,
   "id": "e71532c5",
   "metadata": {},
   "outputs": [],
   "source": [
    "def print_scores(scores):\n",
    "    print(\"Scores:\", scores)\n",
    "    print(\"Mean:\", scores.mean())\n",
    "    print(\"Standard Deviation:\", scores.std())"
   ]
  },
  {
   "cell_type": "code",
   "execution_count": 50,
   "id": "ba68a320",
   "metadata": {},
   "outputs": [
    {
     "name": "stdout",
     "output_type": "stream",
     "text": [
      "Scores: [5749616.42353547 4286307.28530506 4829892.93333327 4335232.54846873\n",
      " 3551564.0615384  4990710.61235839 4363044.52505438 3664142.69204681\n",
      " 3923382.27486441 5386091.71761129]\n",
      "Mean: 4507998.507411621\n",
      "Standard Deviation: 686872.0470659263\n"
     ]
    }
   ],
   "source": [
    "print_scores(rmse_scores)"
   ]
  },
  {
   "cell_type": "markdown",
   "id": "9f7a8b2a",
   "metadata": {},
   "source": [
    "# Testing the model on test data"
   ]
  },
  {
   "cell_type": "code",
   "execution_count": 51,
   "id": "e43f319c",
   "metadata": {},
   "outputs": [
    {
     "name": "stdout",
     "output_type": "stream",
     "text": [
      "[ 4400000.         35000000.          4364416.66666667  3900000.\n",
      "  8749000.          4093684.21052632  7800000.         35200000.\n",
      " 17000000.          4204200.          6000000.          6266666.66666667\n",
      " 15300000.          8325000.         10100000.          7200000.\n",
      "  4400000.          5500000.          6675000.         10800000.\n",
      "  7400000.          4299000.          3500000.          8140000.\n",
      "  8775000.         10700000.         16000000.          4400000.\n",
      "  9499000.          5777000.         10100000.          8000000.\n",
      "  2104000.         11000000.          5720000.         11000000.\n",
      "  3830000.          5363500.          8903000.         10800000.\n",
      "  4216000.         12100000.          5500000.          3000000.\n",
      "  6900000.          6323000.          5800000.         11299999.\n",
      " 45000000.          8140000.         20500000.         11500000.\n",
      "  5600000.         35200000.          8426000.          8600000.\n",
      "  3900000.          4400000.          8186666.66666667 31000000.\n",
      "  8070000.         11200000.          7900000.         35800000.\n",
      "  4925000.         10800000.          6700000.          5280000.\n",
      " 35200000.          6800000.         11399999.          8580000.\n",
      " 10900000.          6317142.85714286 10100000.         13000000.\n",
      "  3800000.          4800000.         18500000.          6590000.\n",
      " 18900000.          6580555.55555556  8950000.         11000000.\n",
      "  3533333.33333333 41000000.          8074000.         40000000.\n",
      "  9900000.         27500000.          4236000.          4500000.\n",
      " 15000000.         10303000.          6720000.          9250000.\n",
      "  3200000.          3500000.          4204200.          8999200.\n",
      "  8186666.66666667  7500000.          6000000.         15749999.5\n",
      " 15500000.          3503000.          3900000.         10100000.\n",
      " 45000000.         35200000.         22100000.          4840000.\n",
      "  7317000.         10700000.         29000000.          4400000.\n",
      " 33500000.          4500000.         11200000.          6363000.\n",
      "  3500000.          4748000.          4198000.         62300000.\n",
      "  5280000.          6580555.55555556  7750000.          7498999.\n",
      "  6500000.          4900000.          4641000.          5500000.\n",
      " 12300000.         26000000.         12600000.          6500000.\n",
      " 11600000.         20000000.          3750000.          7301000.\n",
      "  7229799.6        11000000.          8825000.          8990000.\n",
      "  7359000.         20200000.         13400000.          3750000.\n",
      "  7999714.          4800000.         13500000.          7400000.\n",
      "  4800000.         11249999.5         8385999.66666667  7895999.\n",
      "  6000000.          6000000.          7498999.         13500000.\n",
      "  3000000.          5500000.          7500000.         14000000.\n",
      "  6580555.55555556  8000000.          7000000.          4266000.\n",
      " 18500000.          4500000.          6640000.          5376000.\n",
      "  2500000.         13500000.          9156000.         11200000.\n",
      "  3820000.          9075000.          6752000.          6931000.\n",
      "  8364000.          6317142.85714286  4200000.          3500000.\n",
      "  3900000.          7200000.          3900000.          9500000.\n",
      "  9000000.          9299200.          7802000.          7999714.\n",
      " 12000000.          4364416.66666667  5777000.          3300000.\n",
      "  8900000.          3500000.          8186666.66666667 22500000.\n",
      "  7240000.          4567000.         10560500.          4364416.66666667\n",
      " 11100000.          6600000.          9571000.          4158000.\n",
      " 12500000.         10400000.          5900000.         10000000.\n",
      "  3830000.          9300000.         16900000.          4210500.\n",
      " 10303000.          8799333.33333333  5250000.         30000000.\n",
      "  6000000.          9900000.          4500000.          7500000.\n",
      " 13500000.          3500000.          5777000.          6931000.\n",
      "  3533333.33333333  8500000.         14600000.          9782000.\n",
      "  5236666.33333333  3300000.          6300000.          4070000.\n",
      "  2500000.         12300000.          2700000.          7500000.\n",
      "  5500000.          6500000.          6600000.         13300000.\n",
      " 23000000.          5500000.          2962000.         22100000.\n",
      "  4800000.          3000000.         14000000.         35000000.\n",
      "  2200000.          5500000.         10350000.         12775000.\n",
      " 20000000.          5628000.          6752000.          4748000.\n",
      "  9150000.         30000000.          4155000.         23433333.33333333\n",
      "  4640000.          3900000.         40000000.          6600000.\n",
      "  4362500.          3900000.         20700000.         10000000.\n",
      " 15000000.          7922000.         10900000.         12300000.\n",
      " 18200000.         22000000.         12300000.         11200000.\n",
      "  4734636.36363636 12000000.         24350000.          4044000.\n",
      "  4364416.66666667  3900000.          4266000.         11000000.\n",
      "  6057500.          9150000.         10000000.         11500000.\n",
      " 45000000.         17000000.          4200000.          2116000.\n",
      "  8140000.          5777000.          9300000.          9150000.\n",
      "  3900000.         10100000.          7467000.          2700000.\n",
      "  7229799.6         4600000.          7301000.         39400000.\n",
      "  9300000.          9991000.          4300000.          3200000.\n",
      " 17500000.          5500000.         15233333.33333333 24350000.\n",
      "  9494000.          8600000.         10900000.          5236666.33333333\n",
      " 10100000.         13300000.          4400000.          7567000.\n",
      " 22966666.66666667  9300000.          7561999.66666667 27500000.\n",
      " 29000000.          3100000.         10100000.          4200000.\n",
      "  3820000.          5600000.          4200000.          9984000.\n",
      " 11314285.         11000000.          6700000.         17000000.\n",
      "  9991000.          7301000.          4200000.          4400000.\n",
      " 10000000.         45000000.         14600000.          4204200.\n",
      "  3250000.         10500000.         16000000.          4000000.\n",
      "  8741000.          3900000.         14000000.         14000000.\n",
      " 19400000.          8500000.          9000000.          8140000.\n",
      "  3300000.          5500000.         12500000.          9720000.\n",
      "  4400000.          8050000.         20000000.          6790833.33333333\n",
      "  9200000.          7240000.          9300000.          4734636.36363636\n",
      " 10900000.          8273999.          4155000.          4093684.21052632\n",
      "  5800000.         10000000.          3533333.33333333  6500000.\n",
      "  4367000.          4093684.21052632 11600000.          9450000.\n",
      " 10500000.         11000000.          3250000.          3600000.\n",
      "  9450000.          7150000.         15000000.          4364416.66666667\n",
      " 20500000.          3400000.         12300000.         30000000.\n",
      "  5777000.          4500000.          9120000.          3300000.\n",
      "  4640000.          8200000.          4085000.          6741000.\n",
      " 27000000.          8580000.          5000000.          4000000.\n",
      "  4500000.          4000000.          4093684.21052632  3200000.\n",
      "  4856000.         22000000.          7065000.         29000000.\n",
      "  4850000.          6580555.55555556  8603571.42857143  5971333.33333333\n",
      "  4876000.          4900000.         11800000.          6000000.\n",
      " 11000000.          8450000.          6503500.          6317142.85714286\n",
      "  8603571.42857143 30000000.          4641000.          3175000.\n",
      "  2500000.         12500000.          7065000.         20200000.\n",
      " 10200000.         10800000.          2848000.          6600000.\n",
      " 19600000.         22100000.          3175000.          3200000.\n",
      "  9906000.         35200000.          3830000.          8999200.\n",
      "  8903000.          9300000.         12000000.          2700000.\n",
      " 37500000.         13500000.          6500000.          6786000.\n",
      "  6000000.          8460000.          6700000.          6580555.55555556\n",
      " 18500000.          6640000.          8950000.          3570000.\n",
      " 14600000.          7100000.          8400000.          2861333.33333333\n",
      "  9500000.          7800000.          3900000.          6319000.\n",
      "  4900000.         15300000.          4204200.          4590000.\n",
      " 27000000.         42750000.          8600000.          9000000.\n",
      "  4155000.          4000000.          4504166.66666667  3500000.\n",
      "  7429000.          8500000.         10000000.          7500000.\n",
      "  5499000.          6600000.          6580555.55555556  9991000.\n",
      " 13500000.          8573000.          6500000.          7150000.\n",
      "  6266666.66666667 23000000.         11000000.          8186666.66666667\n",
      "  5900000.          8186666.66666667  5679000.          3700000.        ] [4748000, 22700000, 4500000, 3900000, 14000000, 4400000, 7800000, 35200000, 11700000, 4389000, 6500000, 8600000, 14500000, 6325000, 10100000, 10000000, 4200000, 6800000, 10000000, 11200000, 8700000, 5300000, 4680000, 8150000, 9234000, 10700000, 10700000, 5200000, 9500000, 5253000, 8105000, 9300000, 6500000, 10900000, 5720000, 6500000, 3200000, 5692000, 9517000, 10800000, 4600000, 16000000, 5275000, 3000000, 6165000, 7272000, 5580000, 12700000, 165000000, 8150000, 15000000, 8500000, 6800000, 35200000, 6000000, 11100000, 3900000, 3960000, 8200000, 46000000, 7581999, 7000000, 7900000, 36000000, 5200000, 10300000, 6700000, 5256000, 55800000, 7000000, 11399999, 8086000, 10900000, 4850000, 10100000, 19500000, 3148000, 4542000, 18500000, 6590000, 19000000, 6800000, 9400000, 3650000, 3500000, 45000000, 23000000, 33300000, 5500000, 55000000, 4236000, 4500000, 12000000, 14500000, 6552000, 22000000, 4300000, 6300000, 4158000, 9000000, 8200000, 7500000, 5510000, 17000000, 17000000, 2002000, 3900000, 10100000, 13500000, 35200000, 15000000, 6500000, 7098999, 9197000, 29000000, 4977000, 34000000, 4500000, 11500000, 6363000, 4000000, 5373000, 10500000, 61000000, 5280000, 6800000, 10300000, 7498999, 10200000, 5900000, 4641000, 14000000, 12300000, 22000000, 14000000, 7672000, 9662000, 16500000, 4700000, 6348000, 7317000, 9000000, 6354000, 8925000, 7614000, 42900000, 14000000, 3300000, 7998999, 4700000, 14300000, 14000000, 5200000, 11100000, 4620000, 7875000, 6000000, 4000000, 4600000, 14200000, 2800000, 4600000, 7500000, 16000000, 6000000, 8000000, 7000000, 3200000, 7912000, 5166000, 6370000, 7700000, 4800000, 13500000, 9135000, 11399999, 4800000, 9075000, 7000000, 7950000, 11000000, 4000000, 3999000, 4000000, 3900000, 4304000, 3900000, 7500000, 9000000, 9300000, 10600000, 8000000, 17700000, 4239000, 6168000, 3300000, 8234999, 2700000, 8100000, 22000000, 7000000, 7298999, 10000000, 4236000, 11100000, 7540000, 8323000, 4158000, 9200000, 10400000, 6300000, 10000000, 3250000, 6956999, 6600000, 3720000, 9906000, 8800000, 3200000, 30000000, 6000000, 9900000, 3500000, 4700000, 13500000, 4680000, 6277000, 8998000, 3600000, 10200000, 6984000, 17500000, 8600000, 3300000, 6300000, 4400000, 2000000, 12000000, 2700000, 7600000, 32000000, 6000000, 4000000, 10600000, 17000000, 5500000, 5782000, 16600000, 5654000, 4000000, 15000000, 33100000, 2200000, 4300000, 10500000, 12000000, 9877000, 5544000, 7000000, 6000000, 9400000, 33000000, 3570000, 23000000, 4700000, 4500000, 25800000, 6600000, 4750000, 3900000, 46000000, 5900000, 15000000, 7200000, 14400000, 12200000, 15000000, 12500000, 12000000, 10900000, 4760000, 7998000, 23600000, 4566000, 4230000, 3900000, 2200000, 12200000, 8200000, 9941000, 7200000, 11500000, 32799999, 16500000, 4200000, 15000000, 8200000, 5777000, 9300000, 9400000, 3900000, 7800000, 7286000, 2700000, 7317000, 4800000, 7301000, 45000000, 5652000, 9291000, 4500000, 5700000, 27500000, 5500000, 14000000, 26100000, 9500000, 10000000, 10900000, 6509999, 8510000, 9949000, 4400000, 12500000, 23000000, 9800000, 7240000, 24000000, 29000000, 5500000, 9800000, 5880000, 3800000, 6623000, 5000000, 9984000, 11100000, 10500000, 6700000, 18000000, 4000000, 6348000, 5000000, 4400000, 13000000, 45000000, 25500000, 4158000, 3500000, 7200000, 18400000, 6000000, 8761000, 3900000, 14500000, 10100000, 18700000, 6000000, 9000000, 8150000, 3300000, 5500000, 11100000, 9600000, 4400000, 9200000, 14600000, 4850000, 9351000, 10800000, 9300000, 4760000, 10900000, 8278000, 4710000, 4800000, 7519000, 10500000, 3500000, 8500000, 4367000, 3200000, 9633000, 9400000, 8452000, 8100000, 2800000, 3600000, 9908000, 9300000, 12500000, 4236000, 19500000, 4010000, 12300000, 33000000, 6102000, 6000000, 7500000, 5760000, 4640000, 8200000, 4000000, 5500000, 32500000, 9800000, 13300000, 4000000, 4300000, 7200000, 4400000, 6500000, 5256000, 3690000, 7222000, 29000000, 4800000, 6800000, 8625000, 5967000, 4876000, 4600000, 10000000, 6000000, 9066000, 6200000, 7500000, 8200000, 9000000, 18400000, 4641000, 7000000, 4800000, 12500000, 8000000, 21000000, 10200000, 10600000, 2850000, 6600000, 19400000, 17500000, 3500000, 4500000, 9525000, 33000000, 4161999, 9000000, 9517000, 10200000, 12000000, 2500000, 32000000, 13500000, 10000000, 4680000, 3927000, 8500000, 6700000, 6800000, 9000000, 6344000, 5800000, 6000000, 13500000, 9900000, 8389000, 4000000, 9500000, 6547000, 7800000, 6319000, 4700000, 15000000, 4158000, 4200000, 14800000, 42500000, 10800000, 9000000, 4600000, 3300000, 4748000, 4500000, 14000000, 8500000, 16000000, 7500000, 5499000, 11299999, 6800000, 3936000, 10000000, 8573000, 3300000, 7175000, 8599000, 19500000, 11000000, 8150000, 9000000, 8200000, 5679000, 4500000]\n"
     ]
    }
   ],
   "source": [
    "X_test=strat_test_set.drop(\"Price\", axis=1)\n",
    "Y_test=strat_test_set[\"Price\"].copy()\n",
    "X_test_prepared=my_pipeline.transform(X_test)\n",
    "final_predictions=model.predict(X_test_prepared)\n",
    "final_mse=mean_squared_error(Y_test, final_predictions)\n",
    "final_rmse=np.sqrt(final_mse)\n",
    "print(final_predictions, list(Y_test))"
   ]
  },
  {
   "cell_type": "code",
   "execution_count": 52,
   "id": "5fa07adb",
   "metadata": {},
   "outputs": [
    {
     "data": {
      "text/plain": [
       "6768713.548176292"
      ]
     },
     "execution_count": 52,
     "metadata": {},
     "output_type": "execute_result"
    }
   ],
   "source": [
    "final_rmse"
   ]
  }
 ],
 "metadata": {
  "kernelspec": {
   "display_name": "Python 3 (ipykernel)",
   "language": "python",
   "name": "python3"
  },
  "language_info": {
   "codemirror_mode": {
    "name": "ipython",
    "version": 3
   },
   "file_extension": ".py",
   "mimetype": "text/x-python",
   "name": "python",
   "nbconvert_exporter": "python",
   "pygments_lexer": "ipython3",
   "version": "3.10.7"
  }
 },
 "nbformat": 4,
 "nbformat_minor": 5
}
